{
 "cells": [
  {
   "cell_type": "code",
   "execution_count": 36,
   "id": "5af24da4",
   "metadata": {},
   "outputs": [],
   "source": [
    "import shutil\n",
    "from pathlib import Path\n",
    "from collections import Counter"
   ]
  },
  {
   "cell_type": "code",
   "execution_count": 57,
   "id": "27123982",
   "metadata": {},
   "outputs": [
    {
     "data": {
      "text/plain": [
       "WindowsPath('Downloads')"
      ]
     },
     "execution_count": 57,
     "metadata": {},
     "output_type": "execute_result"
    }
   ],
   "source": [
    "DIR_PATH = Path.home() / 'Downloads'\n",
    "DIR_PATH\n",
    "Path('Downloads')"
   ]
  },
  {
   "cell_type": "code",
   "execution_count": 47,
   "id": "d3a26cda",
   "metadata": {},
   "outputs": [],
   "source": [
    "file_type_dest = {\n",
    "    '.png':'image',\n",
    "    '.jpg':'image',\n",
    "    '.csv':'data',\n",
    "    'mp4':'video',\n",
    "    '.zip':'compressed',\n",
    "    '.ipynb':'notebook',\n",
    "}"
   ]
  },
  {
   "cell_type": "code",
   "execution_count": 48,
   "id": "21ec7c8a",
   "metadata": {},
   "outputs": [],
   "source": [
    "DEST_DIR = DIR_PATH"
   ]
  },
  {
   "cell_type": "code",
   "execution_count": 55,
   "id": "698605c3",
   "metadata": {},
   "outputs": [
    {
     "name": "stdout",
     "output_type": "stream",
     "text": [
      ".ini C:\\Users\\user\\Downloads\\other\n",
      ".mp4 C:\\Users\\user\\Downloads\\other\n",
      ".exe C:\\Users\\user\\Downloads\\other\n",
      ".exe C:\\Users\\user\\Downloads\\other\n",
      ".msi C:\\Users\\user\\Downloads\\other\n",
      ".msi C:\\Users\\user\\Downloads\\other\n",
      ".exe C:\\Users\\user\\Downloads\\other\n"
     ]
    }
   ],
   "source": [
    "file_extensions = []\n",
    "for file_path in DIR_PATH.iterdir():\n",
    "    # ignore directory\n",
    "    if file_path.is_dir():\n",
    "        continue\n",
    "    \n",
    "    # ignore hidden files\n",
    "    if file_path.name.startswith('.'):\n",
    "        continue\n",
    "    \n",
    "    # move file\n",
    "    file_extensions.append(file_path.suffix)\n",
    "    \n",
    "    if file_path.suffix not in file_type_dest:\n",
    "        DEST_DIR = DIR_PATH / 'other'\n",
    "        \n",
    "    else:\n",
    "        DEST_DIR = DIR_PATH / file_type_dest[file_path.suffix]\n",
    "    \n",
    "    DEST_DIR.mkdir(exist_ok=True)\n",
    "    shutil.move(file_path,DEST_DIR)\n",
    "    print(f'{file_path.suffix} {DEST_DIR}')"
   ]
  },
  {
   "cell_type": "code",
   "execution_count": 53,
   "id": "c5eeccda",
   "metadata": {},
   "outputs": [
    {
     "data": {
      "text/plain": [
       "Counter({'': 7,\n",
       "         '.png': 1,\n",
       "         '.jpg': 1,\n",
       "         '.ASUSPCAssistant_qmba6cd70vzyy!App': 1,\n",
       "         '.ini': 1,\n",
       "         '.mp4': 1,\n",
       "         '.ipynb': 3,\n",
       "         '.zip': 2,\n",
       "         '.exe': 3,\n",
       "         '.csv': 1,\n",
       "         '.msi': 2})"
      ]
     },
     "execution_count": 53,
     "metadata": {},
     "output_type": "execute_result"
    }
   ],
   "source": [
    "Counter(l)"
   ]
  },
  {
   "cell_type": "code",
   "execution_count": 42,
   "id": "4b0bf974",
   "metadata": {},
   "outputs": [
    {
     "data": {
      "text/plain": [
       "['COPY_BUFSIZE',\n",
       " 'Error',\n",
       " 'ExecError',\n",
       " 'ReadError',\n",
       " 'RegistryError',\n",
       " 'SameFileError',\n",
       " 'SpecialFileError',\n",
       " '_ARCHIVE_FORMATS',\n",
       " '_BZ2_SUPPORTED',\n",
       " '_GiveupOnFastCopy',\n",
       " '_HAS_FCOPYFILE',\n",
       " '_LZMA_SUPPORTED',\n",
       " '_UNPACK_FORMATS',\n",
       " '_USE_CP_SENDFILE',\n",
       " '_WINDOWS',\n",
       " '_WIN_DEFAULT_PATHEXT',\n",
       " '_ZLIB_SUPPORTED',\n",
       " '__all__',\n",
       " '__builtins__',\n",
       " '__cached__',\n",
       " '__doc__',\n",
       " '__file__',\n",
       " '__loader__',\n",
       " '__name__',\n",
       " '__package__',\n",
       " '__spec__',\n",
       " '_access_check',\n",
       " '_basename',\n",
       " '_check_unpack_options',\n",
       " '_copyfileobj_readinto',\n",
       " '_copytree',\n",
       " '_copyxattr',\n",
       " '_destinsrc',\n",
       " '_ensure_directory',\n",
       " '_fastcopy_fcopyfile',\n",
       " '_fastcopy_sendfile',\n",
       " '_find_unpack_format',\n",
       " '_get_gid',\n",
       " '_get_uid',\n",
       " '_is_immutable',\n",
       " '_islink',\n",
       " '_make_tarball',\n",
       " '_make_zipfile',\n",
       " '_ntuple_diskusage',\n",
       " '_rmtree_isdir',\n",
       " '_rmtree_islink',\n",
       " '_rmtree_safe_fd',\n",
       " '_rmtree_unsafe',\n",
       " '_samefile',\n",
       " '_stat',\n",
       " '_unpack_tarfile',\n",
       " '_unpack_zipfile',\n",
       " '_use_fd_functions',\n",
       " 'chown',\n",
       " 'collections',\n",
       " 'copy',\n",
       " 'copy2',\n",
       " 'copyfile',\n",
       " 'copyfileobj',\n",
       " 'copymode',\n",
       " 'copystat',\n",
       " 'copytree',\n",
       " 'disk_usage',\n",
       " 'errno',\n",
       " 'fnmatch',\n",
       " 'get_archive_formats',\n",
       " 'get_terminal_size',\n",
       " 'get_unpack_formats',\n",
       " 'getgrnam',\n",
       " 'getpwnam',\n",
       " 'ignore_patterns',\n",
       " 'make_archive',\n",
       " 'move',\n",
       " 'nt',\n",
       " 'os',\n",
       " 'posix',\n",
       " 'register_archive_format',\n",
       " 'register_unpack_format',\n",
       " 'rmtree',\n",
       " 'stat',\n",
       " 'sys',\n",
       " 'unpack_archive',\n",
       " 'unregister_archive_format',\n",
       " 'unregister_unpack_format',\n",
       " 'which']"
      ]
     },
     "execution_count": 42,
     "metadata": {},
     "output_type": "execute_result"
    }
   ],
   "source": [
    "dir(shutil)"
   ]
  },
  {
   "cell_type": "code",
   "execution_count": 56,
   "id": "54795be8",
   "metadata": {},
   "outputs": [],
   "source": [
    "import requests"
   ]
  },
  {
   "cell_type": "code",
   "execution_count": null,
   "id": "f31f3b76",
   "metadata": {},
   "outputs": [],
   "source": []
  }
 ],
 "metadata": {
  "kernelspec": {
   "display_name": "Python 3 (ipykernel)",
   "language": "python",
   "name": "python3"
  },
  "language_info": {
   "codemirror_mode": {
    "name": "ipython",
    "version": 3
   },
   "file_extension": ".py",
   "mimetype": "text/x-python",
   "name": "python",
   "nbconvert_exporter": "python",
   "pygments_lexer": "ipython3",
   "version": "3.9.7"
  }
 },
 "nbformat": 4,
 "nbformat_minor": 5
}
