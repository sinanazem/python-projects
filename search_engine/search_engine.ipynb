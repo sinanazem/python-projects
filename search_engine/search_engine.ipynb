{
 "cells": [
  {
   "cell_type": "code",
   "execution_count": 1,
   "id": "8d413a45",
   "metadata": {},
   "outputs": [],
   "source": [
    "from pathlib import Path\n",
    "from nltk.tokenize import word_tokenize\n",
    "from nltk.corpus import stopwords"
   ]
  },
  {
   "cell_type": "markdown",
   "id": "ee6859fd",
   "metadata": {},
   "source": [
    "# Crawling"
   ]
  },
  {
   "cell_type": "code",
   "execution_count": 2,
   "id": "e59339da",
   "metadata": {},
   "outputs": [
    {
     "name": "stdout",
     "output_type": "stream",
     "text": [
      "Barak Obama\n",
      "Leo Messi\n",
      "Merkel\n",
      "Saltbee\n",
      "Zlatan\n"
     ]
    }
   ],
   "source": [
    "data = {}\n",
    "for dir_ in Path('.').iterdir():\n",
    "    if dir_.suffix == '.txt':\n",
    "        title = ' '.join(dir_.stem.split('_')).title()\n",
    "        print(title)\n",
    "        with open(dir_, encoding='utf-8') as f:\n",
    "            data[title] = ''.join(f.readlines())\n",
    "\n",
    "            "
   ]
  },
  {
   "cell_type": "markdown",
   "id": "bae62290",
   "metadata": {},
   "source": [
    "# Indexing"
   ]
  },
  {
   "cell_type": "code",
   "execution_count": 3,
   "id": "962380c0",
   "metadata": {},
   "outputs": [],
   "source": [
    "def text_preprocessor(text_data):\n",
    "    \n",
    "    # lower case\n",
    "    text_data = text_data.lower()\n",
    "    \n",
    "    # split words\n",
    "    text_data = word_tokenize(text_data)\n",
    "    \n",
    "    # remove punctuation, digit\n",
    "    \n",
    "    text_data = [word for word in text_data if word.isalpha()]\n",
    "    \n",
    "    # remove stopwords\n",
    "    \n",
    "    text_data = [word for word in text_data if word not in stopwords.words('English')]\n",
    "    \n",
    "    text_data = ' '.join(text_data)\n",
    "    \n",
    "    return text_data"
   ]
  },
  {
   "cell_type": "code",
   "execution_count": 4,
   "id": "82fa55d7",
   "metadata": {},
   "outputs": [
    {
     "data": {
      "text/plain": [
       "'zlatan ibrahimović swedish pronunciation ˈslǎːtan ɪbraˈhǐːmʊvɪtɕ bosnian pronunciation zlǎtan ibraxǐːmoʋitɕ born october swedish professional footballer plays striker serie club ac milan sweden national team ibrahimović renowned acrobatic strikes volleys powerful shots excellent technique ball control regarded one greatest strikers time one decorated active footballers world trophies career scored career goals including club goals scored last four decades ibrahimović began career malmö ff signed ajax two years later gained reputation one promising forwards europe departed two years later sign juventus joining domestic rivals inter milan three consecutive serie titles summer moved barcelona one world expensive transfers one season returned italy signed inter rival milan serie title debut season ibrahimović joined paris leading first ligue title years soon establishing leading figure dominance french football stay france four consecutive ligue titles top scorer ligue three seasons became psg leading goalscorer time joined manchester united free transfer first european honour debut season ibrahimović joined american club la galaxy rejoined milan winning fifth serie title ibrahimović one eleven players made appearances swedish national team international career country leading goalscorer goals represented sweden fifa world cups well uefa european championships awarded guldbollen golden ball given swedish player year record times including consecutive times ibrahimović bicycle kick goal sweden england fifa puskás award often considered one best goals time ibrahimović named fifa fifpro world xi uefa team year finished peak fourth fifa ballon uefa ranked best player ever uefa champions league fourfourtwo magazine named player never win competition december swedish newspaper dagens nyheter ranked swedish sportsperson ever tennis player björn borg field ibrahimović known brash persona outspoken comments addition referring third person early life put photos ronaldo room ronaldo man wanted guy made difference ronaldo hero studied online tried take movements thought getting awesome player autobiography zlatan ibrahimović ibrahimović born malmö sweden october born muslim bosniak father šefik ibrahimović emigrated sweden catholic croat mother jurka gravić also emigrated sweden couple first met ibrahimović identifies mother faith considers devout catholic christian began playing football age six receiving pair football boots alternated fbk balkan malmö club founded yugoslav immigrants malmö bi briefly bk flagg football clubs child mother sometimes hit head wooden spoon would often break arrested handling stolen goods social services intervened concerned divorced mother ability cope five children one ibrahimović drug problem age nine sent live father food scarce father home fridge packed beer ibrahimović often went hungry would run mother dinner also shoplifted stole bikes tough upbringing shaped character author david lagercrantz zlatan states complex best word describe zlatan one hand strong warrior type knew tough survive takes fights time always another part vulnerable guy wounded upbringing uses create strength position guys would gone used anger make better told david need angry play well played kids felt inferior wore wrong clothes money said one day show became motivation early teens ibrahimović regular hometown club malmö ff age close quitting football career favour working docks malmö manager convinced continue playing boy hero brazilian forward ronaldo avid viewer italian football another player admired prolific striker gabriel batistuta player similar characteristics'"
      ]
     },
     "execution_count": 4,
     "metadata": {},
     "output_type": "execute_result"
    }
   ],
   "source": [
    "text_preprocessor(data['Zlatan'])"
   ]
  },
  {
   "cell_type": "markdown",
   "id": "799091c0",
   "metadata": {},
   "source": [
    "# Search"
   ]
  },
  {
   "cell_type": "code",
   "execution_count": 5,
   "id": "dd57bfe7",
   "metadata": {},
   "outputs": [
    {
     "name": "stdout",
     "output_type": "stream",
     "text": [
      "{'barcelona': 'Leo Messi'}\n",
      "{'barcelona': 'Zlatan'}\n"
     ]
    }
   ],
   "source": [
    "quary = 'barcelona'\n",
    "\n",
    "\n",
    "lst = {}\n",
    "for doc_name, doc_content in data.items():\n",
    "    if quary in text_preprocessor(doc_content):\n",
    "        lst[quary] = doc_name\n",
    "        print(lst)"
   ]
  },
  {
   "cell_type": "code",
   "execution_count": 6,
   "id": "6a9f561f",
   "metadata": {},
   "outputs": [
    {
     "data": {
      "text/plain": [
       "{'barcelona': 'Zlatan'}"
      ]
     },
     "execution_count": 6,
     "metadata": {},
     "output_type": "execute_result"
    }
   ],
   "source": [
    "lst"
   ]
  },
  {
   "cell_type": "code",
   "execution_count": null,
   "id": "b4d4abe3",
   "metadata": {},
   "outputs": [],
   "source": []
  },
  {
   "cell_type": "code",
   "execution_count": null,
   "id": "479d8881",
   "metadata": {},
   "outputs": [],
   "source": []
  }
 ],
 "metadata": {
  "kernelspec": {
   "display_name": "Python 3",
   "language": "python",
   "name": "python3"
  },
  "language_info": {
   "codemirror_mode": {
    "name": "ipython",
    "version": 3
   },
   "file_extension": ".py",
   "mimetype": "text/x-python",
   "name": "python",
   "nbconvert_exporter": "python",
   "pygments_lexer": "ipython3",
   "version": "3.8.10 (default, Jun  2 2021, 10:49:15) \n[GCC 9.4.0]"
  },
  "vscode": {
   "interpreter": {
    "hash": "916dbcbb3f70747c44a77c7bcd40155683ae19c65e1c03b4aa3499c5328201f1"
   }
  }
 },
 "nbformat": 4,
 "nbformat_minor": 5
}
