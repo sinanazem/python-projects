{
 "cells": [
  {
   "cell_type": "code",
   "execution_count": 2,
   "metadata": {},
   "outputs": [],
   "source": [
    "# pip install nbconvert"
   ]
  },
  {
   "cell_type": "code",
   "execution_count": 3,
   "metadata": {},
   "outputs": [],
   "source": [
    "import os\n",
    "from nbconvert import HTMLExporter\n",
    "import nbformat\n",
    "\n",
    "def convert_notebook_to_html(notebook_path, output_path=None):\n",
    "    # Load the notebook\n",
    "    with open(notebook_path, 'r', encoding='utf-8') as nb_file:\n",
    "        notebook_content = nbformat.read(nb_file, as_version=4)\n",
    "\n",
    "    # Initialize the HTML exporter\n",
    "    html_exporter = HTMLExporter()\n",
    "    # Remove code inputs, if desired\n",
    "    # html_exporter.exclude_input = True\n",
    "\n",
    "    # Export the notebook to HTML\n",
    "    (body, resources) = html_exporter.from_notebook_node(notebook_content)\n",
    "\n",
    "    # Create output file path if not specified\n",
    "    if not output_path:\n",
    "        output_path = os.path.splitext(notebook_path)[0] + \".html\"\n",
    "\n",
    "    # Save the HTML output\n",
    "    with open(output_path, 'w', encoding='utf-8') as html_file:\n",
    "        html_file.write(body)\n",
    "    print(f\"Converted: {notebook_path} to {output_path}\")\n",
    "\n",
    "def convert_notebooks_to_html(notebook_list):\n",
    "    for notebook_path in notebook_list:\n",
    "        convert_notebook_to_html(notebook_path)\n"
   ]
  },
  {
   "cell_type": "code",
   "execution_count": 4,
   "metadata": {},
   "outputs": [
    {
     "name": "stdout",
     "output_type": "stream",
     "text": [
      "Converted: /mnt/c/Users/user/OneDrive/Desktop/pytopia-notebook-rag/notebook/Lectures/01 Introduction/06 Python Versions.ipynb to /mnt/c/Users/user/OneDrive/Desktop/pytopia-notebook-rag/notebook/Lectures/01 Introduction/06 Python Versions.html\n"
     ]
    }
   ],
   "source": [
    "# List of notebook files you want to convert\n",
    "notebooks = ['/mnt/c/Users/user/OneDrive/Desktop/pytopia-notebook-rag/notebook/Lectures/01 Introduction/06 Python Versions.ipynb']\n",
    "\n",
    "# Convert the notebooks\n",
    "convert_notebooks_to_html(notebooks)"
   ]
  },
  {
   "cell_type": "code",
   "execution_count": null,
   "metadata": {},
   "outputs": [],
   "source": []
  },
  {
   "cell_type": "code",
   "execution_count": null,
   "metadata": {},
   "outputs": [],
   "source": []
  },
  {
   "cell_type": "code",
   "execution_count": 1,
   "metadata": {},
   "outputs": [],
   "source": [
    "import os\n",
    "import shutil\n",
    "from nbconvert import HTMLExporter\n",
    "import nbformat\n",
    "\n",
    "def convert_notebook_to_html(notebook_path, output_path):\n",
    "    \"\"\"Convert a single Jupyter Notebook to HTML.\"\"\"\n",
    "    with open(notebook_path, 'r', encoding='utf-8') as nb_file:\n",
    "        notebook_content = nbformat.read(nb_file, as_version=4)\n",
    "\n",
    "    html_exporter = HTMLExporter()\n",
    "    # Optionally remove code inputs\n",
    "    # html_exporter.exclude_input = True\n",
    "\n",
    "    (body, resources) = html_exporter.from_notebook_node(notebook_content)\n",
    "\n",
    "    with open(output_path, 'w', encoding='utf-8') as html_file:\n",
    "        html_file.write(body)\n",
    "\n",
    "def ensure_directory_exists(file_path):\n",
    "    \"\"\"Ensure the directory for a file path exists.\"\"\"\n",
    "    directory = os.path.dirname(file_path)\n",
    "    if not os.path.exists(directory):\n",
    "        os.makedirs(directory)\n",
    "\n",
    "def convert_all_notebooks(src_root, dst_root):\n",
    "    \"\"\"Recursively convert all .ipynb files in src_root to HTML files in dst_root.\"\"\"\n",
    "    for dirpath, _, filenames in os.walk(src_root):\n",
    "        for filename in filenames:\n",
    "            if filename.endswith('.ipynb'):\n",
    "                src_notebook_path = os.path.join(dirpath, filename)\n",
    "                \n",
    "                # Determine the relative path and equivalent HTML output path\n",
    "                relative_path = os.path.relpath(dirpath, src_root)\n",
    "                dst_dir = os.path.join(dst_root, relative_path)\n",
    "                html_filename = os.path.splitext(filename)[0] + '.html'\n",
    "                dst_html_path = os.path.join(dst_dir, html_filename)\n",
    "\n",
    "                # Ensure the equivalent HTML directory exists\n",
    "                ensure_directory_exists(dst_html_path)\n",
    "\n",
    "                # Convert the notebook and save it\n",
    "                convert_notebook_to_html(src_notebook_path, dst_html_path)\n",
    "                print(f\"Converted: {src_notebook_path} to {dst_html_path}\")\n",
    "\n"
   ]
  },
  {
   "cell_type": "code",
   "execution_count": 2,
   "metadata": {},
   "outputs": [
    {
     "name": "stdout",
     "output_type": "stream",
     "text": [
      "Converted: /mnt/c/Users/user/OneDrive/Desktop/notebook_viewr_app/Lectures/01 Introduction/01 Early Programming.ipynb to /mnt/c/Users/user/OneDrive/Desktop/notebook_viewr_app/HTML_Lectures/01 Introduction/01 Early Programming.html\n",
      "Converted: /mnt/c/Users/user/OneDrive/Desktop/notebook_viewr_app/Lectures/01 Introduction/02 Programming Languages.ipynb to /mnt/c/Users/user/OneDrive/Desktop/notebook_viewr_app/HTML_Lectures/01 Introduction/02 Programming Languages.html\n"
     ]
    }
   ],
   "source": [
    "\n",
    "src_directory = \"/mnt/c/Users/user/OneDrive/Desktop/notebook_viewr_app/Lectures\"\n",
    "dst_directory = \"/mnt/c/Users/user/OneDrive/Desktop/notebook_viewr_app/HTML_Lectures\"    \n",
    "\n",
    "# Perform conversion\n",
    "convert_all_notebooks(src_directory, dst_directory)"
   ]
  },
  {
   "cell_type": "code",
   "execution_count": null,
   "metadata": {},
   "outputs": [],
   "source": []
  }
 ],
 "metadata": {
  "kernelspec": {
   "display_name": "pytopia_notebook",
   "language": "python",
   "name": "python3"
  },
  "language_info": {
   "codemirror_mode": {
    "name": "ipython",
    "version": 3
   },
   "file_extension": ".py",
   "mimetype": "text/x-python",
   "name": "python",
   "nbconvert_exporter": "python",
   "pygments_lexer": "ipython3",
   "version": "3.11.10"
  }
 },
 "nbformat": 4,
 "nbformat_minor": 2
}
