{
 "cells": [
  {
   "cell_type": "code",
   "execution_count": 11,
   "metadata": {},
   "outputs": [],
   "source": [
    "import requests\n",
    "\n",
    "def get_exchange_rate(base_currency, target_currency):\n",
    "    url = f\"https://api.exchangerate-api.com/v4/latest/{base_currency}\"\n",
    "    response = requests.get(url)\n",
    "    if response.ok:\n",
    "        data = response.json()\n",
    "        return data[\"rates\"][target_currency]\n",
    "    else:\n",
    "        return f\"Error with Status code: {response.status_code}\"\n",
    "\n",
    "def calculate_amount(amount, get_exchange_rate):\n",
    "    return amount * get_exchange_rate\n",
    "\n",
    "def get_all_currency():\n",
    "    url = f\"https://api.exchangerate-api.com/v4/latest/usd\"\n",
    "    response = requests.get(url)\n",
    "    if response.ok:\n",
    "        data = response.json()\n",
    "        return data[\"rates\"].keys()\n",
    "    else:\n",
    "        return f\"Error with Status code: {response.status_code}\""
   ]
  },
  {
   "cell_type": "code",
   "execution_count": 13,
   "metadata": {},
   "outputs": [
    {
     "data": {
      "text/plain": [
       "1.35"
      ]
     },
     "execution_count": 13,
     "metadata": {},
     "output_type": "execute_result"
    }
   ],
   "source": [
    "get_exchange_rate(\"USD\", \"CAD\")"
   ]
  },
  {
   "cell_type": "code",
   "execution_count": 14,
   "metadata": {},
   "outputs": [
    {
     "data": {
      "text/plain": [
       "135.0"
      ]
     },
     "execution_count": 14,
     "metadata": {},
     "output_type": "execute_result"
    }
   ],
   "source": [
    "calculate_amount(100, 1.35)\n",
    "    "
   ]
  },
  {
   "cell_type": "code",
   "execution_count": 15,
   "metadata": {},
   "outputs": [
    {
     "data": {
      "text/plain": [
       "dict_keys(['USD', 'AED', 'AFN', 'ALL', 'AMD', 'ANG', 'AOA', 'ARS', 'AUD', 'AWG', 'AZN', 'BAM', 'BBD', 'BDT', 'BGN', 'BHD', 'BIF', 'BMD', 'BND', 'BOB', 'BRL', 'BSD', 'BTN', 'BWP', 'BYN', 'BZD', 'CAD', 'CDF', 'CHF', 'CLP', 'CNY', 'COP', 'CRC', 'CUP', 'CVE', 'CZK', 'DJF', 'DKK', 'DOP', 'DZD', 'EGP', 'ERN', 'ETB', 'EUR', 'FJD', 'FKP', 'FOK', 'GBP', 'GEL', 'GGP', 'GHS', 'GIP', 'GMD', 'GNF', 'GTQ', 'GYD', 'HKD', 'HNL', 'HRK', 'HTG', 'HUF', 'IDR', 'ILS', 'IMP', 'INR', 'IQD', 'IRR', 'ISK', 'JEP', 'JMD', 'JOD', 'JPY', 'KES', 'KGS', 'KHR', 'KID', 'KMF', 'KRW', 'KWD', 'KYD', 'KZT', 'LAK', 'LBP', 'LKR', 'LRD', 'LSL', 'LYD', 'MAD', 'MDL', 'MGA', 'MKD', 'MMK', 'MNT', 'MOP', 'MRU', 'MUR', 'MVR', 'MWK', 'MXN', 'MYR', 'MZN', 'NAD', 'NGN', 'NIO', 'NOK', 'NPR', 'NZD', 'OMR', 'PAB', 'PEN', 'PGK', 'PHP', 'PKR', 'PLN', 'PYG', 'QAR', 'RON', 'RSD', 'RUB', 'RWF', 'SAR', 'SBD', 'SCR', 'SDG', 'SEK', 'SGD', 'SHP', 'SLE', 'SLL', 'SOS', 'SRD', 'SSP', 'STN', 'SYP', 'SZL', 'THB', 'TJS', 'TMT', 'TND', 'TOP', 'TRY', 'TTD', 'TVD', 'TWD', 'TZS', 'UAH', 'UGX', 'UYU', 'UZS', 'VES', 'VND', 'VUV', 'WST', 'XAF', 'XCD', 'XDR', 'XOF', 'XPF', 'YER', 'ZAR', 'ZMW', 'ZWL'])"
      ]
     },
     "execution_count": 15,
     "metadata": {},
     "output_type": "execute_result"
    }
   ],
   "source": [
    "get_all_currency()"
   ]
  },
  {
   "cell_type": "code",
   "execution_count": 16,
   "metadata": {},
   "outputs": [
    {
     "name": "stdout",
     "output_type": "stream",
     "text": [
      "Collecting loguru\n",
      "  Using cached loguru-0.7.2-py3-none-any.whl.metadata (23 kB)\n",
      "Using cached loguru-0.7.2-py3-none-any.whl (62 kB)\n",
      "Installing collected packages: loguru\n",
      "Successfully installed loguru-0.7.2\n",
      "Note: you may need to restart the kernel to use updated packages.\n"
     ]
    }
   ],
   "source": [
    "pip install loguru"
   ]
  },
  {
   "cell_type": "code",
   "execution_count": 40,
   "metadata": {},
   "outputs": [],
   "source": [
    "from loguru import logger\n",
    "class CurrencyConverter:\n",
    "    \n",
    "    def __init__(self, base_currency, target_currency):\n",
    "        \n",
    "        self.base_currency = base_currency\n",
    "        self.target_currency = target_currency\n",
    "        \n",
    "        self.data = self.get_date()\n",
    "    \n",
    "    \n",
    "    def get_date(self):\n",
    "        url = f\"https://api.exchangerate-api.com/v4/latest/{self.base_currency}\"\n",
    "        response = requests.get(url)\n",
    "        if response.ok:\n",
    "            data = response.json()\n",
    "            logger.info(f\"Scraping Json data done!\")\n",
    "            return data\n",
    "        else:\n",
    "            logger.info(f\"Error with Status code: {response.status_code}\")\n",
    "            return None\n",
    "    \n",
    "    def get_exchange_rate(self):\n",
    "        try:\n",
    "            result = self.data[\"rates\"][self.target_currency]\n",
    "            logger.info(\"Currency Exchange rate Crawler worked successfuly!\")\n",
    "            return result\n",
    "        except:\n",
    "            logger.info(\"Currency Exchange rate Crawler Failed!\")\n",
    "            return None\n",
    "        \n",
    "    def calculate_amount(self, amount):\n",
    "        exchange_rate = self.get_exchange_rate()\n",
    "        return amount * exchange_rate\n",
    "        \n",
    "    def get_all_currency(self):\n",
    "        try:\n",
    "            all_currency = self.data[\"rates\"].keys()\n",
    "            logger.info(\"Currency Ticker Crawler worked successfuly!\")\n",
    "            return all_currency\n",
    "        except:\n",
    "            logger.info(\"Currency Ticker Crawler Failed!\")\n",
    "            return None\n",
    "    "
   ]
  },
  {
   "cell_type": "code",
   "execution_count": 41,
   "metadata": {},
   "outputs": [
    {
     "name": "stderr",
     "output_type": "stream",
     "text": [
      "\u001b[32m2024-01-17 08:21:17.480\u001b[0m | \u001b[1mINFO    \u001b[0m | \u001b[36m__main__\u001b[0m:\u001b[36mget_date\u001b[0m:\u001b[36m17\u001b[0m - \u001b[1mScraping Json data done!\u001b[0m\n"
     ]
    }
   ],
   "source": [
    "obj = CurrencyConverter(\"USD\", \"CAD\")"
   ]
  },
  {
   "cell_type": "code",
   "execution_count": 42,
   "metadata": {},
   "outputs": [
    {
     "name": "stderr",
     "output_type": "stream",
     "text": [
      "\u001b[32m2024-01-17 08:21:20.398\u001b[0m | \u001b[1mINFO    \u001b[0m | \u001b[36m__main__\u001b[0m:\u001b[36mget_all_currency\u001b[0m:\u001b[36m39\u001b[0m - \u001b[1mCurrency Ticker Crawler worked successfuly!\u001b[0m\n"
     ]
    }
   ],
   "source": [
    "l = list(obj.get_all_currency())"
   ]
  },
  {
   "cell_type": "code",
   "execution_count": 43,
   "metadata": {},
   "outputs": [
    {
     "name": "stderr",
     "output_type": "stream",
     "text": [
      "\u001b[32m2024-01-17 08:21:22.517\u001b[0m | \u001b[1mINFO    \u001b[0m | \u001b[36m__main__\u001b[0m:\u001b[36mget_exchange_rate\u001b[0m:\u001b[36m26\u001b[0m - \u001b[1mCurrency Exchange rate Crawler worked successfuly!\u001b[0m\n"
     ]
    },
    {
     "data": {
      "text/plain": [
       "1.35"
      ]
     },
     "execution_count": 43,
     "metadata": {},
     "output_type": "execute_result"
    }
   ],
   "source": [
    "obj.get_exchange_rate()"
   ]
  },
  {
   "cell_type": "code",
   "execution_count": 44,
   "metadata": {},
   "outputs": [
    {
     "name": "stderr",
     "output_type": "stream",
     "text": [
      "\u001b[32m2024-01-17 08:21:36.991\u001b[0m | \u001b[1mINFO    \u001b[0m | \u001b[36m__main__\u001b[0m:\u001b[36mget_exchange_rate\u001b[0m:\u001b[36m26\u001b[0m - \u001b[1mCurrency Exchange rate Crawler worked successfuly!\u001b[0m\n"
     ]
    },
    {
     "data": {
      "text/plain": [
       "135.0"
      ]
     },
     "execution_count": 44,
     "metadata": {},
     "output_type": "execute_result"
    }
   ],
   "source": [
    "obj.calculate_amount(100)"
   ]
  },
  {
   "cell_type": "code",
   "execution_count": 36,
   "metadata": {},
   "outputs": [],
   "source": [
    "import json\n",
    "def read_json(file_path):\n",
    "    with open(file_path) as f:\n",
    "        date = json.load(f)\n",
    "    return date"
   ]
  },
  {
   "cell_type": "code",
   "execution_count": 32,
   "metadata": {},
   "outputs": [],
   "source": [
    "def write_json(data, file_path):\n",
    "    with open(file_path, \"w\") as f:\n",
    "        json.dump(data, f)"
   ]
  },
  {
   "cell_type": "code",
   "execution_count": 33,
   "metadata": {},
   "outputs": [
    {
     "data": {
      "text/plain": [
       "['USD',\n",
       " 'AED',\n",
       " 'AFN',\n",
       " 'ALL',\n",
       " 'AMD',\n",
       " 'ANG',\n",
       " 'AOA',\n",
       " 'ARS',\n",
       " 'AUD',\n",
       " 'AWG',\n",
       " 'AZN',\n",
       " 'BAM',\n",
       " 'BBD',\n",
       " 'BDT',\n",
       " 'BGN',\n",
       " 'BHD',\n",
       " 'BIF',\n",
       " 'BMD',\n",
       " 'BND',\n",
       " 'BOB',\n",
       " 'BRL',\n",
       " 'BSD',\n",
       " 'BTN',\n",
       " 'BWP',\n",
       " 'BYN',\n",
       " 'BZD',\n",
       " 'CAD',\n",
       " 'CDF',\n",
       " 'CHF',\n",
       " 'CLP',\n",
       " 'CNY',\n",
       " 'COP',\n",
       " 'CRC',\n",
       " 'CUP',\n",
       " 'CVE',\n",
       " 'CZK',\n",
       " 'DJF',\n",
       " 'DKK',\n",
       " 'DOP',\n",
       " 'DZD',\n",
       " 'EGP',\n",
       " 'ERN',\n",
       " 'ETB',\n",
       " 'EUR',\n",
       " 'FJD',\n",
       " 'FKP',\n",
       " 'FOK',\n",
       " 'GBP',\n",
       " 'GEL',\n",
       " 'GGP',\n",
       " 'GHS',\n",
       " 'GIP',\n",
       " 'GMD',\n",
       " 'GNF',\n",
       " 'GTQ',\n",
       " 'GYD',\n",
       " 'HKD',\n",
       " 'HNL',\n",
       " 'HRK',\n",
       " 'HTG',\n",
       " 'HUF',\n",
       " 'IDR',\n",
       " 'ILS',\n",
       " 'IMP',\n",
       " 'INR',\n",
       " 'IQD',\n",
       " 'IRR',\n",
       " 'ISK',\n",
       " 'JEP',\n",
       " 'JMD',\n",
       " 'JOD',\n",
       " 'JPY',\n",
       " 'KES',\n",
       " 'KGS',\n",
       " 'KHR',\n",
       " 'KID',\n",
       " 'KMF',\n",
       " 'KRW',\n",
       " 'KWD',\n",
       " 'KYD',\n",
       " 'KZT',\n",
       " 'LAK',\n",
       " 'LBP',\n",
       " 'LKR',\n",
       " 'LRD',\n",
       " 'LSL',\n",
       " 'LYD',\n",
       " 'MAD',\n",
       " 'MDL',\n",
       " 'MGA',\n",
       " 'MKD',\n",
       " 'MMK',\n",
       " 'MNT',\n",
       " 'MOP',\n",
       " 'MRU',\n",
       " 'MUR',\n",
       " 'MVR',\n",
       " 'MWK',\n",
       " 'MXN',\n",
       " 'MYR',\n",
       " 'MZN',\n",
       " 'NAD',\n",
       " 'NGN',\n",
       " 'NIO',\n",
       " 'NOK',\n",
       " 'NPR',\n",
       " 'NZD',\n",
       " 'OMR',\n",
       " 'PAB',\n",
       " 'PEN',\n",
       " 'PGK',\n",
       " 'PHP',\n",
       " 'PKR',\n",
       " 'PLN',\n",
       " 'PYG',\n",
       " 'QAR',\n",
       " 'RON',\n",
       " 'RSD',\n",
       " 'RUB',\n",
       " 'RWF',\n",
       " 'SAR',\n",
       " 'SBD',\n",
       " 'SCR',\n",
       " 'SDG',\n",
       " 'SEK',\n",
       " 'SGD',\n",
       " 'SHP',\n",
       " 'SLE',\n",
       " 'SLL',\n",
       " 'SOS',\n",
       " 'SRD',\n",
       " 'SSP',\n",
       " 'STN',\n",
       " 'SYP',\n",
       " 'SZL',\n",
       " 'THB',\n",
       " 'TJS',\n",
       " 'TMT',\n",
       " 'TND',\n",
       " 'TOP',\n",
       " 'TRY',\n",
       " 'TTD',\n",
       " 'TVD',\n",
       " 'TWD',\n",
       " 'TZS',\n",
       " 'UAH',\n",
       " 'UGX',\n",
       " 'UYU',\n",
       " 'UZS',\n",
       " 'VES',\n",
       " 'VND',\n",
       " 'VUV',\n",
       " 'WST',\n",
       " 'XAF',\n",
       " 'XCD',\n",
       " 'XDR',\n",
       " 'XOF',\n",
       " 'XPF',\n",
       " 'YER',\n",
       " 'ZAR',\n",
       " 'ZMW',\n",
       " 'ZWL']"
      ]
     },
     "execution_count": 33,
     "metadata": {},
     "output_type": "execute_result"
    }
   ],
   "source": [
    "l"
   ]
  },
  {
   "cell_type": "code",
   "execution_count": 34,
   "metadata": {},
   "outputs": [],
   "source": [
    "write_json(l,\"currency_tickers.json\")"
   ]
  },
  {
   "cell_type": "code",
   "execution_count": 38,
   "metadata": {},
   "outputs": [],
   "source": [
    "l2 = read_json(\"/mnt/c/Users/user/OneDrive/Desktop/python-projects/Projects Level II/currency-converter-app/src/constants/currency_tickers.json\")"
   ]
  },
  {
   "cell_type": "code",
   "execution_count": 39,
   "metadata": {},
   "outputs": [
    {
     "data": {
      "text/plain": [
       "list"
      ]
     },
     "execution_count": 39,
     "metadata": {},
     "output_type": "execute_result"
    }
   ],
   "source": [
    "type(l2)"
   ]
  },
  {
   "cell_type": "code",
   "execution_count": null,
   "metadata": {},
   "outputs": [],
   "source": []
  }
 ],
 "metadata": {
  "kernelspec": {
   "display_name": "ai_blog",
   "language": "python",
   "name": "python3"
  },
  "language_info": {
   "codemirror_mode": {
    "name": "ipython",
    "version": 3
   },
   "file_extension": ".py",
   "mimetype": "text/x-python",
   "name": "python",
   "nbconvert_exporter": "python",
   "pygments_lexer": "ipython3",
   "version": "3.10.13"
  }
 },
 "nbformat": 4,
 "nbformat_minor": 2
}
