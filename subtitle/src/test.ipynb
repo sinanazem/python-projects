{
 "cells": [
  {
   "cell_type": "code",
   "execution_count": 20,
   "id": "3cc03d57",
   "metadata": {},
   "outputs": [],
   "source": [
    "import pysrt\n",
    "from nltk.tokenize import word_tokenize\n",
    "from tqdm.notebook import tqdm\n",
    "from collections import Counter\n"
   ]
  },
  {
   "cell_type": "code",
   "execution_count": null,
   "id": "2a2e22d1",
   "metadata": {},
   "outputs": [],
   "source": []
  },
  {
   "cell_type": "code",
   "execution_count": 21,
   "id": "bea347ad",
   "metadata": {},
   "outputs": [],
   "source": [
    "from data import DATA_DIR"
   ]
  },
  {
   "cell_type": "code",
   "execution_count": 22,
   "id": "819953a4",
   "metadata": {},
   "outputs": [],
   "source": [
    "sub_file_path = DATA_DIR / \"Subtitle\" / 'Game of Thrones - 1x01 - Winter is Coming.720p HDTV.en.srt'"
   ]
  },
  {
   "cell_type": "code",
   "execution_count": 23,
   "id": "a1ec3f85",
   "metadata": {},
   "outputs": [],
   "source": [
    "subs = pysrt.open(sub_file_path)"
   ]
  },
  {
   "cell_type": "code",
   "execution_count": 24,
   "id": "e96370d4",
   "metadata": {},
   "outputs": [
    {
     "data": {
      "application/vnd.jupyter.widget-view+json": {
       "model_id": "cd2ec75218ad4b95a892111fbc03ce7c",
       "version_major": 2,
       "version_minor": 0
      },
      "text/plain": [
       "  0%|          | 0/669 [00:00<?, ?it/s]"
      ]
     },
     "metadata": {},
     "output_type": "display_data"
    }
   ],
   "source": [
    "tokens = []\n",
    "for sub in tqdm(subs):\n",
    "    tokens.extend(word_tokenize(sub.text))\n",
    "   "
   ]
  },
  {
   "cell_type": "code",
   "execution_count": 27,
   "id": "0a086d60",
   "metadata": {},
   "outputs": [
    {
     "data": {
      "text/plain": [
       "'.'"
      ]
     },
     "execution_count": 27,
     "metadata": {},
     "output_type": "execute_result"
    }
   ],
   "source": [
    "Counter(tokens).most_common()[0][0]\n"
   ]
  },
  {
   "cell_type": "code",
   "execution_count": null,
   "id": "4aeeabea",
   "metadata": {},
   "outputs": [],
   "source": []
  },
  {
   "cell_type": "code",
   "execution_count": null,
   "id": "3e269ae1",
   "metadata": {},
   "outputs": [],
   "source": []
  },
  {
   "cell_type": "code",
   "execution_count": null,
   "id": "49b0e184",
   "metadata": {},
   "outputs": [],
   "source": []
  }
 ],
 "metadata": {
  "kernelspec": {
   "display_name": "Python 3",
   "language": "python",
   "name": "python3"
  },
  "language_info": {
   "codemirror_mode": {
    "name": "ipython",
    "version": 3
   },
   "file_extension": ".py",
   "mimetype": "text/x-python",
   "name": "python",
   "nbconvert_exporter": "python",
   "pygments_lexer": "ipython3",
   "version": "3.8.8"
  }
 },
 "nbformat": 4,
 "nbformat_minor": 5
}
